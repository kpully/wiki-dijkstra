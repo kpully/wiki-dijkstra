{
 "cells": [
  {
   "cell_type": "markdown",
   "metadata": {},
   "source": [
    "dijkstra code source: http://www.bogotobogo.com/python/python_Dijkstras_Shortest_Path_Algorithm.php  \n",
    "wikipedia data: https://dumps.wikimedia.org/enwiki/latest/"
   ]
  },
  {
   "cell_type": "code",
   "execution_count": 1,
   "metadata": {
    "collapsed": true
   },
   "outputs": [],
   "source": [
    "import sys\n",
    "import os\n",
    "import gzip\n",
    "import pandas as pd\n",
    "from sqlalchemy import create_engine"
   ]
  },
  {
   "cell_type": "markdown",
   "metadata": {},
   "source": [
    "## SQL Alchemy"
   ]
  },
  {
   "cell_type": "code",
   "execution_count": 2,
   "metadata": {},
   "outputs": [],
   "source": [
    "cnx = create_engine('postgresql://kpully@localhost:5432/wikilinks')\n",
    "#cnx.table_names()"
   ]
  },
  {
   "cell_type": "code",
   "execution_count": 3,
   "metadata": {},
   "outputs": [],
   "source": [
    "df = pd.read_sql_query('''SELECT * FROM pagelinks LIMIT 5''',cnx)"
   ]
  },
  {
   "cell_type": "code",
   "execution_count": 7,
   "metadata": {},
   "outputs": [
    {
     "data": {
      "text/html": [
       "<div>\n",
       "<table border=\"1\" class=\"dataframe\">\n",
       "  <thead>\n",
       "    <tr style=\"text-align: right;\">\n",
       "      <th></th>\n",
       "      <th>pl_from</th>\n",
       "      <th>pl_from_namespace</th>\n",
       "      <th>pl_title</th>\n",
       "      <th>pl_namespace</th>\n",
       "    </tr>\n",
       "  </thead>\n",
       "  <tbody>\n",
       "    <tr>\n",
       "      <th>0</th>\n",
       "      <td>19327051</td>\n",
       "      <td>0</td>\n",
       "      <td>test</td>\n",
       "      <td>0</td>\n",
       "    </tr>\n",
       "    <tr>\n",
       "      <th>1</th>\n",
       "      <td>19327051</td>\n",
       "      <td>0</td>\n",
       "      <td>(388188)_2006_DP14\\</td>\n",
       "      <td>0</td>\n",
       "    </tr>\n",
       "    <tr>\n",
       "      <th>2</th>\n",
       "      <td>19335567</td>\n",
       "      <td>0</td>\n",
       "      <td>(388188)_2006_DP14\\</td>\n",
       "      <td>0</td>\n",
       "    </tr>\n",
       "  </tbody>\n",
       "</table>\n",
       "</div>"
      ],
      "text/plain": [
       "    pl_from  pl_from_namespace             pl_title  pl_namespace\n",
       "0  19327051                  0                 test             0\n",
       "1  19327051                  0  (388188)_2006_DP14\\             0\n",
       "2  19335567                  0  (388188)_2006_DP14\\             0"
      ]
     },
     "execution_count": 7,
     "metadata": {},
     "output_type": "execute_result"
    }
   ],
   "source": [
    "df.head()"
   ]
  },
  {
   "cell_type": "code",
   "execution_count": 6,
   "metadata": {},
   "outputs": [
    {
     "data": {
      "text/plain": [
       "3"
      ]
     },
     "execution_count": 6,
     "metadata": {},
     "output_type": "execute_result"
    }
   ],
   "source": [
    "len(df)"
   ]
  },
  {
   "cell_type": "code",
   "execution_count": 36,
   "metadata": {},
   "outputs": [],
   "source": [
    "#create graph from dataframe\n",
    "g = Graph()\n",
    "\n",
    "for i, row in df.iterrows():\n",
    "    g.add_vertex(row.pl_title)\n",
    "    g.add_edge(row.pl_title, row.pl_from, 1)"
   ]
  },
  {
   "cell_type": "code",
   "execution_count": 37,
   "metadata": {},
   "outputs": [
    {
     "name": "stdout",
     "output_type": "stream",
     "text": [
      "Graph data:\n",
      "( test , 19327051,   1)\n",
      "( 19327051 , (388188)_2006_DP14\\,   1)\n",
      "( 19327051 , test,   1)\n",
      "( 19335567 , (388188)_2006_DP14\\,   1)\n",
      "( (388188)_2006_DP14\\ , 19335567,   1)\n",
      "Dijkstra's shortest path\n",
      "The shortest path : [u'(388188)_2006_DP14\\\\']\n"
     ]
    }
   ],
   "source": [
    "    print 'Graph data:'\n",
    "    for v in g:\n",
    "        for w in v.get_connections():\n",
    "            vid = v.get_id()\n",
    "            wid = w.get_id()\n",
    "            print '( %s , %s, %3d)'  % ( vid, wid, v.get_weight(w))\n",
    "\n",
    "    dijkstra(g, g.get_vertex('test'), g.get_vertex('(388188)_2006_DP14\\\\')) \n",
    "\n",
    "    target = g.get_vertex('(388188)_2006_DP14\\\\')\n",
    "    path = [target.get_id()]\n",
    "    shortest(target, path)\n",
    "    print 'The shortest path : %s' %(path[::-1])"
   ]
  },
  {
   "cell_type": "markdown",
   "metadata": {},
   "source": [
    "## Dijkstra's Shortest Path Algorithm"
   ]
  },
  {
   "cell_type": "code",
   "execution_count": 32,
   "metadata": {},
   "outputs": [
    {
     "name": "stdout",
     "output_type": "stream",
     "text": [
      "Graph data:\n",
      "( a , b,   7)\n",
      "( a , c,   9)\n",
      "( a , f,  14)\n",
      "( c , b,  10)\n",
      "( c , a,   9)\n",
      "( c , f,   2)\n",
      "( c , d,  11)\n",
      "( b , c,  10)\n",
      "( b , a,   7)\n",
      "( b , d,  15)\n",
      "( e , f,   9)\n",
      "( e , d,   6)\n",
      "( d , b,  15)\n",
      "( d , c,  11)\n",
      "( d , e,   6)\n",
      "( f , c,   2)\n",
      "( f , a,  14)\n",
      "( f , e,   9)\n",
      "Dijkstra's shortest path\n",
      "The shortest path : ['a', 'c', 'f', 'e']\n"
     ]
    }
   ],
   "source": [
    "class Vertex:\n",
    "    def __init__(self, node):\n",
    "        self.id = node\n",
    "        self.adjacent = {}\n",
    "        # Set distance to infinity for all nodes\n",
    "        self.distance = sys.maxint\n",
    "        # Mark all nodes unvisited        \n",
    "        self.visited = False  \n",
    "        # Predecessor\n",
    "        self.previous = None\n",
    "\n",
    "    def add_neighbor(self, neighbor, weight=0):\n",
    "        self.adjacent[neighbor] = weight\n",
    "\n",
    "    def get_connections(self):\n",
    "        return self.adjacent.keys()  \n",
    "\n",
    "    def get_id(self):\n",
    "        return self.id\n",
    "\n",
    "    def get_weight(self, neighbor):\n",
    "        return self.adjacent[neighbor]\n",
    "\n",
    "    def set_distance(self, dist):\n",
    "        self.distance = dist\n",
    "\n",
    "    def get_distance(self):\n",
    "        return self.distance\n",
    "\n",
    "    def set_previous(self, prev):\n",
    "        self.previous = prev\n",
    "\n",
    "    def set_visited(self):\n",
    "        self.visited = True\n",
    "\n",
    "    def __str__(self):\n",
    "        return str(self.id) + ' adjacent: ' + str([x.id for x in self.adjacent])\n",
    "\n",
    "class Graph:\n",
    "    def __init__(self):\n",
    "        self.vert_dict = {}\n",
    "        self.num_vertices = 0\n",
    "\n",
    "    def __iter__(self):\n",
    "        return iter(self.vert_dict.values())\n",
    "\n",
    "    def add_vertex(self, node):\n",
    "        self.num_vertices = self.num_vertices + 1\n",
    "        new_vertex = Vertex(node)\n",
    "        self.vert_dict[node] = new_vertex\n",
    "        return new_vertex\n",
    "\n",
    "    def get_vertex(self, n):\n",
    "        if n in self.vert_dict:\n",
    "            return self.vert_dict[n]\n",
    "        else:\n",
    "            return None\n",
    "\n",
    "    def add_edge(self, frm, to, cost = 0):\n",
    "        if frm not in self.vert_dict:\n",
    "            self.add_vertex(frm)\n",
    "        if to not in self.vert_dict:\n",
    "            self.add_vertex(to)\n",
    "\n",
    "        self.vert_dict[frm].add_neighbor(self.vert_dict[to], cost)\n",
    "        self.vert_dict[to].add_neighbor(self.vert_dict[frm], cost)\n",
    "\n",
    "    def get_vertices(self):\n",
    "        return self.vert_dict.keys()\n",
    "\n",
    "    def set_previous(self, current):\n",
    "        self.previous = current\n",
    "\n",
    "    def get_previous(self, current):\n",
    "        return self.previous\n",
    "\n",
    "def shortest(v, path):\n",
    "    ''' make shortest path from v.previous'''\n",
    "    if v.previous:\n",
    "        path.append(v.previous.get_id())\n",
    "        shortest(v.previous, path)\n",
    "    return\n",
    "\n",
    "import heapq\n",
    "\n",
    "def dijkstra(aGraph, start, target):\n",
    "    print '''Dijkstra's shortest path'''\n",
    "    # Set the distance for the start node to zero \n",
    "    start.set_distance(0)\n",
    "\n",
    "    # Put tuple pair into the priority queue\n",
    "    unvisited_queue = [(v.get_distance(),v) for v in aGraph]\n",
    "    heapq.heapify(unvisited_queue)\n",
    "\n",
    "    while len(unvisited_queue):\n",
    "        # Pops a vertex with the smallest distance \n",
    "        uv = heapq.heappop(unvisited_queue)\n",
    "        current = uv[1]\n",
    "        current.set_visited()\n",
    "\n",
    "        #for next in v.adjacent:\n",
    "        for next in current.adjacent:\n",
    "            # if visited, skip\n",
    "            if next.visited:\n",
    "                continue\n",
    "            new_dist = current.get_distance() + current.get_weight(next)\n",
    "            \n",
    "            if new_dist < next.get_distance():\n",
    "                next.set_distance(new_dist)\n",
    "                next.set_previous(current)\n",
    "\n",
    "        # Rebuild heap\n",
    "        # 1. Pop every item\n",
    "        while len(unvisited_queue):\n",
    "            heapq.heappop(unvisited_queue)\n",
    "        # 2. Put all vertices not visited into the queue\n",
    "        unvisited_queue = [(v.get_distance(),v) for v in aGraph if not v.visited]\n",
    "        heapq.heapify(unvisited_queue)\n",
    "    \n",
    "if __name__ == '__main__':\n",
    "\n",
    "    g = Graph()\n",
    "\n",
    "    g.add_vertex('a')\n",
    "    g.add_vertex('b')\n",
    "    g.add_vertex('c')\n",
    "    g.add_vertex('d')\n",
    "    g.add_vertex('e')\n",
    "    g.add_vertex('f')\n",
    "\n",
    "    g.add_edge('a', 'b', 7)  \n",
    "    g.add_edge('a', 'c', 9)\n",
    "    g.add_edge('a', 'f', 14)\n",
    "    g.add_edge('b', 'c', 10)\n",
    "    g.add_edge('b', 'd', 15)\n",
    "    g.add_edge('c', 'd', 11)\n",
    "    g.add_edge('c', 'f', 2)\n",
    "    g.add_edge('d', 'e', 6)\n",
    "    g.add_edge('e', 'f', 9)\n",
    "\n",
    "    print 'Graph data:'\n",
    "    for v in g:\n",
    "        for w in v.get_connections():\n",
    "            vid = v.get_id()\n",
    "            wid = w.get_id()\n",
    "            print '( %s , %s, %3d)'  % ( vid, wid, v.get_weight(w))\n",
    "\n",
    "    dijkstra(g, g.get_vertex('a'), g.get_vertex('e')) \n",
    "\n",
    "    target = g.get_vertex('e')\n",
    "    path = [target.get_id()]\n",
    "    shortest(target, path)\n",
    "    print 'The shortest path : %s' %(path[::-1])"
   ]
  },
  {
   "cell_type": "markdown",
   "metadata": {},
   "source": [
    "## Get files from local"
   ]
  },
  {
   "cell_type": "code",
   "execution_count": 1,
   "metadata": {
    "scrolled": false
   },
   "outputs": [],
   "source": [
    "# pd.read_table(\"test_file\")"
   ]
  },
  {
   "cell_type": "code",
   "execution_count": 55,
   "metadata": {},
   "outputs": [
    {
     "name": "stdout",
     "output_type": "stream",
     "text": [
      "\n"
     ]
    }
   ],
   "source": [
    "file_path='/Users/kpully/Downloads/enwiki-latest-page.sql.gz'"
   ]
  },
  {
   "cell_type": "code",
   "execution_count": 8,
   "metadata": {
    "scrolled": false
   },
   "outputs": [],
   "source": [
    "# with gzip.open(file_path,'r') as f:\n",
    "#     for line in f:\n",
    "#         print('got line', line)"
   ]
  },
  {
   "cell_type": "markdown",
   "metadata": {},
   "source": [
    "## Import Wikipedia data from AWS SW"
   ]
  },
  {
   "cell_type": "code",
   "execution_count": 33,
   "metadata": {},
   "outputs": [],
   "source": [
    "import boto3, botocore, gzip"
   ]
  },
  {
   "cell_type": "code",
   "execution_count": 26,
   "metadata": {},
   "outputs": [],
   "source": [
    "s3 = boto3.client('s3')\n",
    "bucket_name=\"wiki-page-links\"\n",
    "key=\"enwiki-latest-pagelinks.sql.gz\""
   ]
  },
  {
   "cell_type": "code",
   "execution_count": 29,
   "metadata": {},
   "outputs": [],
   "source": [
    "obj = s3.get_object(Bucket=bucket_name, Key=key)"
   ]
  },
  {
   "cell_type": "code",
   "execution_count": null,
   "metadata": {
    "collapsed": true
   },
   "outputs": [],
   "source": []
  }
 ],
 "metadata": {
  "kernelspec": {
   "display_name": "Python 3",
   "language": "python",
   "name": "python3"
  },
  "language_info": {
   "codemirror_mode": {
    "name": "ipython",
    "version": 3
   },
   "file_extension": ".py",
   "mimetype": "text/x-python",
   "name": "python",
   "nbconvert_exporter": "python",
   "pygments_lexer": "ipython3",
   "version": "3.7.3"
  }
 },
 "nbformat": 4,
 "nbformat_minor": 1
}
